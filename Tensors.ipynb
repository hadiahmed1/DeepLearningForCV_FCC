{
  "nbformat": 4,
  "nbformat_minor": 0,
  "metadata": {
    "colab": {
      "provenance": [],
      "authorship_tag": "ABX9TyNKr66HceMwr0B5Zr8wtrtB",
      "include_colab_link": true
    },
    "kernelspec": {
      "name": "python3",
      "display_name": "Python 3"
    },
    "language_info": {
      "name": "python"
    }
  },
  "cells": [
    {
      "cell_type": "markdown",
      "metadata": {
        "id": "view-in-github",
        "colab_type": "text"
      },
      "source": [
        "<a href=\"https://colab.research.google.com/github/hadiahmed1/DeepLearningForCV_FCC/blob/main/Tensors.ipynb\" target=\"_parent\"><img src=\"https://colab.research.google.com/assets/colab-badge.svg\" alt=\"Open In Colab\"/></a>"
      ]
    },
    {
      "cell_type": "markdown",
      "source": [
        "# **Basics**"
      ],
      "metadata": {
        "id": "SfU2Horozllr"
      }
    },
    {
      "cell_type": "code",
      "execution_count": 1,
      "metadata": {
        "colab": {
          "base_uri": "https://localhost:8080/"
        },
        "id": "t5Q1kRTnIWaC",
        "outputId": "24a034cb-1967-44ae-fad5-2b5ff06731f9"
      },
      "outputs": [
        {
          "output_type": "stream",
          "name": "stdout",
          "text": [
            "tf.Tensor(4, shape=(), dtype=int32)\n"
          ]
        }
      ],
      "source": [
        "import tensorflow as tf\n",
        "import numpy as np\n",
        "tesnsorflow_zero=tf.constant(4)\n",
        "print(tesnsorflow_zero)"
      ]
    },
    {
      "cell_type": "code",
      "source": [
        "tensorflow_1d=tf.constant([2,0,-1])\n",
        "print(tensorflow_1d)"
      ],
      "metadata": {
        "colab": {
          "base_uri": "https://localhost:8080/"
        },
        "id": "UeOP6zuwKlJd",
        "outputId": "9eba4430-5fa2-46ae-b041-5acbd699c674"
      },
      "execution_count": 3,
      "outputs": [
        {
          "output_type": "stream",
          "name": "stdout",
          "text": [
            "tf.Tensor([ 2  0 -1], shape=(3,), dtype=int32)\n"
          ]
        }
      ]
    },
    {
      "cell_type": "code",
      "source": [
        "tensorflow_2d=tf.constant([\n",
        "    [1,2,3],\n",
        "    [4,5,6],\n",
        "    [7,8,9]\n",
        "])\n",
        "print(tensorflow_2d)"
      ],
      "metadata": {
        "colab": {
          "base_uri": "https://localhost:8080/"
        },
        "id": "lJmq1sgSLISW",
        "outputId": "ddef67e4-ae20-4520-d50d-7a6d34c29ac3"
      },
      "execution_count": 4,
      "outputs": [
        {
          "output_type": "stream",
          "name": "stdout",
          "text": [
            "tf.Tensor(\n",
            "[[1 2 3]\n",
            " [4 5 6]\n",
            " [7 8 9]], shape=(3, 3), dtype=int32)\n"
          ]
        }
      ]
    },
    {
      "cell_type": "code",
      "source": [
        "tensorflow_3d=tf.constant([\n",
        "    [[5,7,4],[3,6,-2],[6,-1,9]],\n",
        "\n",
        "    [[-3,7,8],[2,-6,-9],[2,5,-7]],\n",
        "])\n",
        "print(tensorflow_3d)"
      ],
      "metadata": {
        "colab": {
          "base_uri": "https://localhost:8080/"
        },
        "id": "HYvKq1g5MBVn",
        "outputId": "81239918-c614-4c67-b575-8742c8cf0d3b"
      },
      "execution_count": 2,
      "outputs": [
        {
          "output_type": "stream",
          "name": "stdout",
          "text": [
            "tf.Tensor(\n",
            "[[[ 5  7  4]\n",
            "  [ 3  6 -2]\n",
            "  [ 6 -1  9]]\n",
            "\n",
            " [[-3  7  8]\n",
            "  [ 2 -6 -9]\n",
            "  [ 2  5 -7]]], shape=(2, 3, 3), dtype=int32)\n"
          ]
        }
      ]
    },
    {
      "cell_type": "code",
      "source": [
        "print(tensorflow_3d.shape)"
      ],
      "metadata": {
        "colab": {
          "base_uri": "https://localhost:8080/"
        },
        "id": "BvdsMyc2v5dd",
        "outputId": "9512c7a8-fdfc-4387-ef75-ff58112815c7"
      },
      "execution_count": 6,
      "outputs": [
        {
          "output_type": "stream",
          "name": "stdout",
          "text": [
            "(2, 3, 3)\n"
          ]
        }
      ]
    },
    {
      "cell_type": "code",
      "source": [
        "tf_o=tf.constant([2.3,6.1,-1.2],dtype=tf.float16)\n",
        "print(tf_o)\n",
        "tf_casted=tf.cast(tf_o,dtype=tf.int16)\n",
        "print(tf_casted)"
      ],
      "metadata": {
        "colab": {
          "base_uri": "https://localhost:8080/"
        },
        "id": "3RFH9TaFxSuB",
        "outputId": "14ea40cf-039f-45ba-a376-b09575787f99"
      },
      "execution_count": 8,
      "outputs": [
        {
          "output_type": "stream",
          "name": "stdout",
          "text": [
            "tf.Tensor([ 2.3  6.1 -1.2], shape=(3,), dtype=float16)\n",
            "tf.Tensor([ 2  6 -1], shape=(3,), dtype=int16)\n"
          ]
        }
      ]
    },
    {
      "cell_type": "code",
      "source": [
        "np_array=np.array([1,2,3,4])\n",
        "print(np_array)\n",
        "converted_array=tf.convert_to_tensor(np_array)\n",
        "print(converted_array)"
      ],
      "metadata": {
        "colab": {
          "base_uri": "https://localhost:8080/"
        },
        "id": "vJS_lDjyytv8",
        "outputId": "87cdd16e-c918-47bd-9c9d-f217be42e340"
      },
      "execution_count": 11,
      "outputs": [
        {
          "output_type": "stream",
          "name": "stdout",
          "text": [
            "[1 2 3 4]\n",
            "tf.Tensor([1 2 3 4], shape=(4,), dtype=int64)\n"
          ]
        }
      ]
    },
    {
      "cell_type": "code",
      "source": [
        "eye_tensor=tf.eye(\n",
        "    num_rows=5,\n",
        "    num_columns=None,\n",
        "    batch_shape=[2,],\n",
        "    dtype=np.float32,\n",
        "    name=None\n",
        ")\n",
        "print(5*eye_tensor)"
      ],
      "metadata": {
        "colab": {
          "base_uri": "https://localhost:8080/"
        },
        "id": "Y4s8A8c_zdTV",
        "outputId": "5e86f663-ed15-4a93-8ae5-d7b0d88555cd"
      },
      "execution_count": 19,
      "outputs": [
        {
          "output_type": "stream",
          "name": "stdout",
          "text": [
            "tf.Tensor(\n",
            "[[[5. 0. 0. 0. 0.]\n",
            "  [0. 5. 0. 0. 0.]\n",
            "  [0. 0. 5. 0. 0.]\n",
            "  [0. 0. 0. 5. 0.]\n",
            "  [0. 0. 0. 0. 5.]]\n",
            "\n",
            " [[5. 0. 0. 0. 0.]\n",
            "  [0. 5. 0. 0. 0.]\n",
            "  [0. 0. 5. 0. 0.]\n",
            "  [0. 0. 0. 5. 0.]\n",
            "  [0. 0. 0. 0. 5.]]], shape=(2, 5, 5), dtype=float32)\n"
          ]
        }
      ]
    },
    {
      "cell_type": "code",
      "source": [
        "tensor_fill=tf.fill([2,3,3],2)\n",
        "print(tensor_fill)"
      ],
      "metadata": {
        "colab": {
          "base_uri": "https://localhost:8080/"
        },
        "id": "6LLhHNmj0l40",
        "outputId": "7c82ac99-eae2-4a57-d2f9-64c73ddbe8f2"
      },
      "execution_count": 21,
      "outputs": [
        {
          "output_type": "stream",
          "name": "stdout",
          "text": [
            "tf.Tensor(\n",
            "[[[2 2 2]\n",
            "  [2 2 2]\n",
            "  [2 2 2]]\n",
            "\n",
            " [[2 2 2]\n",
            "  [2 2 2]\n",
            "  [2 2 2]]], shape=(2, 3, 3), dtype=int32)\n"
          ]
        }
      ]
    },
    {
      "cell_type": "code",
      "source": [
        "print(tf.size(tensorflow_3d))"
      ],
      "metadata": {
        "colab": {
          "base_uri": "https://localhost:8080/"
        },
        "id": "YjSYbLtWuA7H",
        "outputId": "f6d49494-747f-4efe-c702-726a9164390a"
      },
      "execution_count": 3,
      "outputs": [
        {
          "output_type": "stream",
          "name": "stdout",
          "text": [
            "tf.Tensor(18, shape=(), dtype=int32)\n"
          ]
        }
      ]
    },
    {
      "cell_type": "code",
      "source": [
        "#creating random\n",
        "random_tensor=tf.random.normal([4,5],mean=100,stddev=5)\n",
        "print(random_tensor)"
      ],
      "metadata": {
        "colab": {
          "base_uri": "https://localhost:8080/"
        },
        "id": "2EaGjf4juAtH",
        "outputId": "71c02526-d967-4924-dda4-43411985d842"
      },
      "execution_count": 7,
      "outputs": [
        {
          "output_type": "stream",
          "name": "stdout",
          "text": [
            "tf.Tensor(\n",
            "[[101.519775 101.25927  100.609436 109.8098   104.81389 ]\n",
            " [ 99.490814 104.07106   96.44186  107.29775  101.752426]\n",
            " [ 95.39298  101.38784   99.34694  102.19481  102.78859 ]\n",
            " [ 93.2788    99.30835  102.007     96.404106  95.82303 ]], shape=(4, 5), dtype=float32)\n"
          ]
        }
      ]
    },
    {
      "cell_type": "code",
      "source": [
        "random2_tensor=tf.random.uniform(shape=[3,4],minval=2,maxval=5)\n",
        "print(random2_tensor)"
      ],
      "metadata": {
        "colab": {
          "base_uri": "https://localhost:8080/"
        },
        "id": "-8sO0xkjxV2r",
        "outputId": "ef4dfda4-3423-4518-9937-0a028b6fe727"
      },
      "execution_count": 8,
      "outputs": [
        {
          "output_type": "stream",
          "name": "stdout",
          "text": [
            "tf.Tensor(\n",
            "[[3.5100884 4.327753  2.2757592 2.3195324]\n",
            " [3.2600918 4.638008  2.9189227 3.2364018]\n",
            " [2.181547  3.7433968 2.1048336 2.0540824]], shape=(3, 4), dtype=float32)\n"
          ]
        }
      ]
    },
    {
      "cell_type": "code",
      "source": [
        "#SEED\n",
        "tf.random.set_seed(5)\n",
        "print(tf.random.uniform(shape=[3,1],maxval=5,dtype=tf.float16,seed=10))\n",
        "print(tf.random.uniform(shape=[3,1],maxval=5,dtype=tf.float16,seed=10))\n",
        "print(tf.random.uniform(shape=[3,1],maxval=5,dtype=tf.float16,seed=10))\n",
        "print(tf.random.uniform(shape=[3,1],maxval=5,dtype=tf.float16,seed=10))"
      ],
      "metadata": {
        "colab": {
          "base_uri": "https://localhost:8080/"
        },
        "id": "wpUDx7mSxVuL",
        "outputId": "c31f525c-96eb-4a06-a43d-7c3be8fec60d"
      },
      "execution_count": 9,
      "outputs": [
        {
          "output_type": "stream",
          "name": "stdout",
          "text": [
            "tf.Tensor(\n",
            "[[3.941]\n",
            " [2.34 ]\n",
            " [2.715]], shape=(3, 1), dtype=float16)\n",
            "tf.Tensor(\n",
            "[[2.719 ]\n",
            " [0.5615]\n",
            " [3.838 ]], shape=(3, 1), dtype=float16)\n",
            "tf.Tensor(\n",
            "[[0.2393]\n",
            " [0.2979]\n",
            " [4.176 ]], shape=(3, 1), dtype=float16)\n",
            "tf.Tensor(\n",
            "[[3.121]\n",
            " [3.395]\n",
            " [1.782]], shape=(3, 1), dtype=float16)\n"
          ]
        }
      ]
    },
    {
      "cell_type": "code",
      "source": [
        "tf.random.set_seed(5)\n",
        "print(tf.random.uniform(shape=[3,1],maxval=5,dtype=tf.float16,seed=10))\n",
        "print(tf.random.uniform(shape=[3,1],maxval=5,dtype=tf.float16,seed=10))\n",
        "print(tf.random.uniform(shape=[3,1],maxval=5,dtype=tf.float16,seed=10))\n",
        "print(tf.random.uniform(shape=[3,1],maxval=5,dtype=tf.float16,seed=10))"
      ],
      "metadata": {
        "colab": {
          "base_uri": "https://localhost:8080/"
        },
        "id": "YLTpz5w0xVqR",
        "outputId": "3c8a2006-44c8-4995-9698-15cd197b609c"
      },
      "execution_count": 10,
      "outputs": [
        {
          "output_type": "stream",
          "name": "stdout",
          "text": [
            "tf.Tensor(\n",
            "[[3.941]\n",
            " [2.34 ]\n",
            " [2.715]], shape=(3, 1), dtype=float16)\n",
            "tf.Tensor(\n",
            "[[2.719 ]\n",
            " [0.5615]\n",
            " [3.838 ]], shape=(3, 1), dtype=float16)\n",
            "tf.Tensor(\n",
            "[[0.2393]\n",
            " [0.2979]\n",
            " [4.176 ]], shape=(3, 1), dtype=float16)\n",
            "tf.Tensor(\n",
            "[[3.121]\n",
            " [3.395]\n",
            " [1.782]], shape=(3, 1), dtype=float16)\n"
          ]
        }
      ]
    },
    {
      "cell_type": "code",
      "source": [],
      "metadata": {
        "id": "woqC8Azoz-3B"
      },
      "execution_count": null,
      "outputs": []
    }
  ]
}