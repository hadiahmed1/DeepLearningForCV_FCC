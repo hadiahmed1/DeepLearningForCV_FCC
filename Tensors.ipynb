{
  "nbformat": 4,
  "nbformat_minor": 0,
  "metadata": {
    "colab": {
      "provenance": [],
      "authorship_tag": "ABX9TyPtbSFDGvsPeAOj0B5Heae5",
      "include_colab_link": true
    },
    "kernelspec": {
      "name": "python3",
      "display_name": "Python 3"
    },
    "language_info": {
      "name": "python"
    }
  },
  "cells": [
    {
      "cell_type": "markdown",
      "metadata": {
        "id": "view-in-github",
        "colab_type": "text"
      },
      "source": [
        "<a href=\"https://colab.research.google.com/github/hadiahmed1/DeepLearningForCV_FCC/blob/main/Tensors.ipynb\" target=\"_parent\"><img src=\"https://colab.research.google.com/assets/colab-badge.svg\" alt=\"Open In Colab\"/></a>"
      ]
    },
    {
      "cell_type": "code",
      "execution_count": 9,
      "metadata": {
        "colab": {
          "base_uri": "https://localhost:8080/"
        },
        "id": "t5Q1kRTnIWaC",
        "outputId": "07c00ae4-d1e8-4d7a-b687-a37846ee7e6f"
      },
      "outputs": [
        {
          "output_type": "stream",
          "name": "stdout",
          "text": [
            "tf.Tensor(4, shape=(), dtype=int32)\n"
          ]
        }
      ],
      "source": [
        "import tensorflow as tf\n",
        "import numpy as np\n",
        "tesnsorflow_zero=tf.constant(4)\n",
        "print(tesnsorflow_zero)"
      ]
    },
    {
      "cell_type": "code",
      "source": [
        "tensorflow_1d=tf.constant([2,0,-1])\n",
        "print(tensorflow_1d)"
      ],
      "metadata": {
        "colab": {
          "base_uri": "https://localhost:8080/"
        },
        "id": "UeOP6zuwKlJd",
        "outputId": "9eba4430-5fa2-46ae-b041-5acbd699c674"
      },
      "execution_count": 3,
      "outputs": [
        {
          "output_type": "stream",
          "name": "stdout",
          "text": [
            "tf.Tensor([ 2  0 -1], shape=(3,), dtype=int32)\n"
          ]
        }
      ]
    },
    {
      "cell_type": "code",
      "source": [
        "tensorflow_2d=tf.constant([\n",
        "    [1,2,3],\n",
        "    [4,5,6],\n",
        "    [7,8,9]\n",
        "])\n",
        "print(tensorflow_2d)"
      ],
      "metadata": {
        "colab": {
          "base_uri": "https://localhost:8080/"
        },
        "id": "lJmq1sgSLISW",
        "outputId": "ddef67e4-ae20-4520-d50d-7a6d34c29ac3"
      },
      "execution_count": 4,
      "outputs": [
        {
          "output_type": "stream",
          "name": "stdout",
          "text": [
            "tf.Tensor(\n",
            "[[1 2 3]\n",
            " [4 5 6]\n",
            " [7 8 9]], shape=(3, 3), dtype=int32)\n"
          ]
        }
      ]
    },
    {
      "cell_type": "code",
      "source": [
        "tensorflow_3d=tf.constant([\n",
        "    [[5,7,4],[3,6,-2],[6,-1,9]],\n",
        "\n",
        "    [[-3,7,8],[2,-6,-9],[2,5,-7]],\n",
        "])\n",
        "print(tensorflow_3d)"
      ],
      "metadata": {
        "colab": {
          "base_uri": "https://localhost:8080/"
        },
        "id": "HYvKq1g5MBVn",
        "outputId": "8dc3db1a-1829-4d26-b03b-b68465e7ff6d"
      },
      "execution_count": 3,
      "outputs": [
        {
          "output_type": "stream",
          "name": "stdout",
          "text": [
            "tf.Tensor(\n",
            "[[[ 5  7  4]\n",
            "  [ 3  6 -2]\n",
            "  [ 6 -1  9]]\n",
            "\n",
            " [[-3  7  8]\n",
            "  [ 2 -6 -9]\n",
            "  [ 2  5 -7]]], shape=(2, 3, 3), dtype=int32)\n"
          ]
        }
      ]
    },
    {
      "cell_type": "code",
      "source": [
        "print(tensorflow_3d.shape)"
      ],
      "metadata": {
        "colab": {
          "base_uri": "https://localhost:8080/"
        },
        "id": "BvdsMyc2v5dd",
        "outputId": "9512c7a8-fdfc-4387-ef75-ff58112815c7"
      },
      "execution_count": 6,
      "outputs": [
        {
          "output_type": "stream",
          "name": "stdout",
          "text": [
            "(2, 3, 3)\n"
          ]
        }
      ]
    },
    {
      "cell_type": "code",
      "source": [
        "tf_o=tf.constant([2.3,6.1,-1.2],dtype=tf.float16)\n",
        "print(tf_o)\n",
        "tf_casted=tf.cast(tf_o,dtype=tf.int16)\n",
        "print(tf_casted)"
      ],
      "metadata": {
        "colab": {
          "base_uri": "https://localhost:8080/"
        },
        "id": "3RFH9TaFxSuB",
        "outputId": "14ea40cf-039f-45ba-a376-b09575787f99"
      },
      "execution_count": 8,
      "outputs": [
        {
          "output_type": "stream",
          "name": "stdout",
          "text": [
            "tf.Tensor([ 2.3  6.1 -1.2], shape=(3,), dtype=float16)\n",
            "tf.Tensor([ 2  6 -1], shape=(3,), dtype=int16)\n"
          ]
        }
      ]
    },
    {
      "cell_type": "code",
      "source": [
        "np_array=np.array([1,2,3,4])\n",
        "print(np_array)\n",
        "converted_array=tf.convert_to_tensor(np_array)\n",
        "print(converted_array)"
      ],
      "metadata": {
        "colab": {
          "base_uri": "https://localhost:8080/"
        },
        "id": "vJS_lDjyytv8",
        "outputId": "87cdd16e-c918-47bd-9c9d-f217be42e340"
      },
      "execution_count": 11,
      "outputs": [
        {
          "output_type": "stream",
          "name": "stdout",
          "text": [
            "[1 2 3 4]\n",
            "tf.Tensor([1 2 3 4], shape=(4,), dtype=int64)\n"
          ]
        }
      ]
    },
    {
      "cell_type": "code",
      "source": [
        "eye_tensor=tf.eye(\n",
        "    num_rows=5,\n",
        "    num_columns=None,\n",
        "    batch_shape=[2,],\n",
        "    dtype=np.float32,\n",
        "    name=None\n",
        ")\n",
        "print(5*eye_tensor)"
      ],
      "metadata": {
        "colab": {
          "base_uri": "https://localhost:8080/"
        },
        "id": "Y4s8A8c_zdTV",
        "outputId": "5e86f663-ed15-4a93-8ae5-d7b0d88555cd"
      },
      "execution_count": 19,
      "outputs": [
        {
          "output_type": "stream",
          "name": "stdout",
          "text": [
            "tf.Tensor(\n",
            "[[[5. 0. 0. 0. 0.]\n",
            "  [0. 5. 0. 0. 0.]\n",
            "  [0. 0. 5. 0. 0.]\n",
            "  [0. 0. 0. 5. 0.]\n",
            "  [0. 0. 0. 0. 5.]]\n",
            "\n",
            " [[5. 0. 0. 0. 0.]\n",
            "  [0. 5. 0. 0. 0.]\n",
            "  [0. 0. 5. 0. 0.]\n",
            "  [0. 0. 0. 5. 0.]\n",
            "  [0. 0. 0. 0. 5.]]], shape=(2, 5, 5), dtype=float32)\n"
          ]
        }
      ]
    },
    {
      "cell_type": "code",
      "source": [
        "tensor_fill=tf.fill([2,3,3],2)\n",
        "print(tensor_fill)"
      ],
      "metadata": {
        "colab": {
          "base_uri": "https://localhost:8080/"
        },
        "id": "6LLhHNmj0l40",
        "outputId": "7c82ac99-eae2-4a57-d2f9-64c73ddbe8f2"
      },
      "execution_count": 21,
      "outputs": [
        {
          "output_type": "stream",
          "name": "stdout",
          "text": [
            "tf.Tensor(\n",
            "[[[2 2 2]\n",
            "  [2 2 2]\n",
            "  [2 2 2]]\n",
            "\n",
            " [[2 2 2]\n",
            "  [2 2 2]\n",
            "  [2 2 2]]], shape=(2, 3, 3), dtype=int32)\n"
          ]
        }
      ]
    }
  ]
}