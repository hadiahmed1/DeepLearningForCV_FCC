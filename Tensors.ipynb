{
  "nbformat": 4,
  "nbformat_minor": 0,
  "metadata": {
    "colab": {
      "provenance": [],
      "toc_visible": true,
      "authorship_tag": "ABX9TyOx/JXFR/AyKhP9KPJhtHDc",
      "include_colab_link": true
    },
    "kernelspec": {
      "name": "python3",
      "display_name": "Python 3"
    },
    "language_info": {
      "name": "python"
    }
  },
  "cells": [
    {
      "cell_type": "markdown",
      "metadata": {
        "id": "view-in-github",
        "colab_type": "text"
      },
      "source": [
        "<a href=\"https://colab.research.google.com/github/hadiahmed1/DeepLearningForCV_FCC/blob/main/Tensors.ipynb\" target=\"_parent\"><img src=\"https://colab.research.google.com/assets/colab-badge.svg\" alt=\"Open In Colab\"/></a>"
      ]
    },
    {
      "cell_type": "markdown",
      "source": [
        "# **Basics**"
      ],
      "metadata": {
        "id": "SfU2Horozllr"
      }
    },
    {
      "cell_type": "code",
      "execution_count": 1,
      "metadata": {
        "colab": {
          "base_uri": "https://localhost:8080/"
        },
        "id": "t5Q1kRTnIWaC",
        "outputId": "62a41551-cf90-48ca-ce6b-97e0561ce854"
      },
      "outputs": [
        {
          "output_type": "stream",
          "name": "stdout",
          "text": [
            "tf.Tensor(4, shape=(), dtype=int32)\n"
          ]
        }
      ],
      "source": [
        "import tensorflow as tf\n",
        "import numpy as np\n",
        "tesnsorflow_zero=tf.constant(4)\n",
        "print(tesnsorflow_zero)"
      ]
    },
    {
      "cell_type": "code",
      "source": [
        "tensorflow_1d=tf.constant([2,0,-1])\n",
        "print(tensorflow_1d)"
      ],
      "metadata": {
        "colab": {
          "base_uri": "https://localhost:8080/"
        },
        "id": "UeOP6zuwKlJd",
        "outputId": "9ff18b03-e6a6-450d-9fd1-63be31185158"
      },
      "execution_count": 2,
      "outputs": [
        {
          "output_type": "stream",
          "name": "stdout",
          "text": [
            "tf.Tensor([ 2  0 -1], shape=(3,), dtype=int32)\n"
          ]
        }
      ]
    },
    {
      "cell_type": "code",
      "source": [
        "tensorflow_2d=tf.constant([\n",
        "    [1,2,3],\n",
        "    [4,5,6],\n",
        "    [7,8,9],\n",
        "    [3,8,4]\n",
        "])\n",
        "print(tensorflow_2d)"
      ],
      "metadata": {
        "colab": {
          "base_uri": "https://localhost:8080/"
        },
        "id": "lJmq1sgSLISW",
        "outputId": "98baf082-0ae4-4582-b3c8-a9b34748196f"
      },
      "execution_count": 3,
      "outputs": [
        {
          "output_type": "stream",
          "name": "stdout",
          "text": [
            "tf.Tensor(\n",
            "[[1 2 3]\n",
            " [4 5 6]\n",
            " [7 8 9]\n",
            " [3 8 4]], shape=(4, 3), dtype=int32)\n"
          ]
        }
      ]
    },
    {
      "cell_type": "code",
      "source": [
        "tensorflow_3d=tf.constant([\n",
        "    [[5,7,4],[3,6,-2],[6,-1,9]],\n",
        "\n",
        "    [[-3,7,8],[2,-6,-9],[2,5,-7]],\n",
        "])\n",
        "print(tensorflow_3d)"
      ],
      "metadata": {
        "colab": {
          "base_uri": "https://localhost:8080/"
        },
        "id": "HYvKq1g5MBVn",
        "outputId": "dbef8f60-87b0-460a-bd87-bc49caff772a"
      },
      "execution_count": 4,
      "outputs": [
        {
          "output_type": "stream",
          "name": "stdout",
          "text": [
            "tf.Tensor(\n",
            "[[[ 5  7  4]\n",
            "  [ 3  6 -2]\n",
            "  [ 6 -1  9]]\n",
            "\n",
            " [[-3  7  8]\n",
            "  [ 2 -6 -9]\n",
            "  [ 2  5 -7]]], shape=(2, 3, 3), dtype=int32)\n"
          ]
        }
      ]
    },
    {
      "cell_type": "code",
      "source": [
        "print(tensorflow_3d.shape)"
      ],
      "metadata": {
        "colab": {
          "base_uri": "https://localhost:8080/"
        },
        "id": "BvdsMyc2v5dd",
        "outputId": "16acc91e-7930-4503-d6f4-71aa68e439e1"
      },
      "execution_count": 5,
      "outputs": [
        {
          "output_type": "stream",
          "name": "stdout",
          "text": [
            "(2, 3, 3)\n"
          ]
        }
      ]
    },
    {
      "cell_type": "code",
      "source": [
        "tf_o=tf.constant([2.3,6.1,-1.2],dtype=tf.float16)\n",
        "print(tf_o)\n",
        "tf_casted=tf.cast(tf_o,dtype=tf.int16)\n",
        "print(tf_casted)"
      ],
      "metadata": {
        "colab": {
          "base_uri": "https://localhost:8080/"
        },
        "id": "3RFH9TaFxSuB",
        "outputId": "6bc76f88-743e-4177-f7b8-082c89831e21"
      },
      "execution_count": 6,
      "outputs": [
        {
          "output_type": "stream",
          "name": "stdout",
          "text": [
            "tf.Tensor([ 2.3  6.1 -1.2], shape=(3,), dtype=float16)\n",
            "tf.Tensor([ 2  6 -1], shape=(3,), dtype=int16)\n"
          ]
        }
      ]
    },
    {
      "cell_type": "code",
      "source": [
        "np_array=np.array([1,2,3,4])\n",
        "print(np_array)\n",
        "converted_array=tf.convert_to_tensor(np_array)\n",
        "print(converted_array)"
      ],
      "metadata": {
        "colab": {
          "base_uri": "https://localhost:8080/"
        },
        "id": "vJS_lDjyytv8",
        "outputId": "1c65f83c-31ba-4ad5-863d-0bea5c867afe"
      },
      "execution_count": 7,
      "outputs": [
        {
          "output_type": "stream",
          "name": "stdout",
          "text": [
            "[1 2 3 4]\n",
            "tf.Tensor([1 2 3 4], shape=(4,), dtype=int64)\n"
          ]
        }
      ]
    },
    {
      "cell_type": "code",
      "source": [
        "eye_tensor=tf.eye(\n",
        "    num_rows=5,\n",
        "    num_columns=None,\n",
        "    batch_shape=[2,],\n",
        "    dtype=np.float32,\n",
        "    name=None\n",
        ")\n",
        "print(5*eye_tensor)"
      ],
      "metadata": {
        "colab": {
          "base_uri": "https://localhost:8080/"
        },
        "id": "Y4s8A8c_zdTV",
        "outputId": "cc58965f-f3c1-456d-a7ca-2774ed903429"
      },
      "execution_count": 8,
      "outputs": [
        {
          "output_type": "stream",
          "name": "stdout",
          "text": [
            "tf.Tensor(\n",
            "[[[5. 0. 0. 0. 0.]\n",
            "  [0. 5. 0. 0. 0.]\n",
            "  [0. 0. 5. 0. 0.]\n",
            "  [0. 0. 0. 5. 0.]\n",
            "  [0. 0. 0. 0. 5.]]\n",
            "\n",
            " [[5. 0. 0. 0. 0.]\n",
            "  [0. 5. 0. 0. 0.]\n",
            "  [0. 0. 5. 0. 0.]\n",
            "  [0. 0. 0. 5. 0.]\n",
            "  [0. 0. 0. 0. 5.]]], shape=(2, 5, 5), dtype=float32)\n"
          ]
        }
      ]
    },
    {
      "cell_type": "code",
      "source": [
        "tensor_fill=tf.fill([2,3,3],2)\n",
        "print(tensor_fill)"
      ],
      "metadata": {
        "colab": {
          "base_uri": "https://localhost:8080/"
        },
        "id": "6LLhHNmj0l40",
        "outputId": "f5041ff5-9793-49cb-c83a-4ce0738aeb67"
      },
      "execution_count": 9,
      "outputs": [
        {
          "output_type": "stream",
          "name": "stdout",
          "text": [
            "tf.Tensor(\n",
            "[[[2 2 2]\n",
            "  [2 2 2]\n",
            "  [2 2 2]]\n",
            "\n",
            " [[2 2 2]\n",
            "  [2 2 2]\n",
            "  [2 2 2]]], shape=(2, 3, 3), dtype=int32)\n"
          ]
        }
      ]
    },
    {
      "cell_type": "code",
      "source": [
        "print(tf.size(tensorflow_3d))"
      ],
      "metadata": {
        "colab": {
          "base_uri": "https://localhost:8080/"
        },
        "id": "YjSYbLtWuA7H",
        "outputId": "3d49ed47-5d79-49c4-cfc9-2766b7b68fa8"
      },
      "execution_count": 10,
      "outputs": [
        {
          "output_type": "stream",
          "name": "stdout",
          "text": [
            "tf.Tensor(18, shape=(), dtype=int32)\n"
          ]
        }
      ]
    },
    {
      "cell_type": "code",
      "source": [
        "#creating random\n",
        "random_tensor=tf.random.normal([4,5],mean=100,stddev=5)\n",
        "print(random_tensor)"
      ],
      "metadata": {
        "colab": {
          "base_uri": "https://localhost:8080/"
        },
        "id": "2EaGjf4juAtH",
        "outputId": "2bc0097c-c232-4509-c1a9-3a56e7a22a59"
      },
      "execution_count": 11,
      "outputs": [
        {
          "output_type": "stream",
          "name": "stdout",
          "text": [
            "tf.Tensor(\n",
            "[[ 97.0617    99.355415  90.50922   96.433624  94.306335]\n",
            " [ 99.75355   94.32118  104.10032   93.80178  102.796104]\n",
            " [102.66948   95.51867  102.447365  97.80032   96.1574  ]\n",
            " [109.73501  103.80182  103.70466  112.234924  97.15191 ]], shape=(4, 5), dtype=float32)\n"
          ]
        }
      ]
    },
    {
      "cell_type": "code",
      "source": [
        "random2_tensor=tf.random.uniform(shape=[3,4],minval=2,maxval=5)\n",
        "print(random2_tensor)"
      ],
      "metadata": {
        "colab": {
          "base_uri": "https://localhost:8080/"
        },
        "id": "-8sO0xkjxV2r",
        "outputId": "d633254d-bf5d-46bf-f6bc-bc25cf65b971"
      },
      "execution_count": 12,
      "outputs": [
        {
          "output_type": "stream",
          "name": "stdout",
          "text": [
            "tf.Tensor(\n",
            "[[2.5370765 3.0689812 3.2153068 2.978519 ]\n",
            " [4.620905  4.4678965 4.6423798 3.1808949]\n",
            " [2.7039304 3.3813415 2.2149062 3.7848613]], shape=(3, 4), dtype=float32)\n"
          ]
        }
      ]
    },
    {
      "cell_type": "code",
      "source": [
        "#SEED\n",
        "tf.random.set_seed(5)\n",
        "print(tf.random.uniform(shape=[3,1],maxval=5,dtype=tf.float16,seed=10))\n",
        "print(tf.random.uniform(shape=[3,1],maxval=5,dtype=tf.float16,seed=10))\n",
        "print(tf.random.uniform(shape=[3,1],maxval=5,dtype=tf.float16,seed=10))\n",
        "print(tf.random.uniform(shape=[3,1],maxval=5,dtype=tf.float16,seed=10))"
      ],
      "metadata": {
        "colab": {
          "base_uri": "https://localhost:8080/"
        },
        "id": "wpUDx7mSxVuL",
        "outputId": "6da377d8-31b2-4eb0-80ba-0f9f6580a0d1"
      },
      "execution_count": 13,
      "outputs": [
        {
          "output_type": "stream",
          "name": "stdout",
          "text": [
            "tf.Tensor(\n",
            "[[3.941]\n",
            " [2.34 ]\n",
            " [2.715]], shape=(3, 1), dtype=float16)\n",
            "tf.Tensor(\n",
            "[[2.719 ]\n",
            " [0.5615]\n",
            " [3.838 ]], shape=(3, 1), dtype=float16)\n",
            "tf.Tensor(\n",
            "[[0.2393]\n",
            " [0.2979]\n",
            " [4.176 ]], shape=(3, 1), dtype=float16)\n",
            "tf.Tensor(\n",
            "[[3.121]\n",
            " [3.395]\n",
            " [1.782]], shape=(3, 1), dtype=float16)\n"
          ]
        }
      ]
    },
    {
      "cell_type": "code",
      "source": [
        "tf.random.set_seed(5)\n",
        "print(tf.random.uniform(shape=[3,1],maxval=5,dtype=tf.float16,seed=10))\n",
        "print(tf.random.uniform(shape=[3,1],maxval=5,dtype=tf.float16,seed=10))\n",
        "print(tf.random.uniform(shape=[3,1],maxval=5,dtype=tf.float16,seed=10))\n",
        "print(tf.random.uniform(shape=[3,1],maxval=5,dtype=tf.float16,seed=10))"
      ],
      "metadata": {
        "colab": {
          "base_uri": "https://localhost:8080/"
        },
        "id": "YLTpz5w0xVqR",
        "outputId": "9eaba6f3-58fa-4ff4-b935-09ae4161c9d9"
      },
      "execution_count": 14,
      "outputs": [
        {
          "output_type": "stream",
          "name": "stdout",
          "text": [
            "tf.Tensor(\n",
            "[[3.941]\n",
            " [2.34 ]\n",
            " [2.715]], shape=(3, 1), dtype=float16)\n",
            "tf.Tensor(\n",
            "[[2.719 ]\n",
            " [0.5615]\n",
            " [3.838 ]], shape=(3, 1), dtype=float16)\n",
            "tf.Tensor(\n",
            "[[0.2393]\n",
            " [0.2979]\n",
            " [4.176 ]], shape=(3, 1), dtype=float16)\n",
            "tf.Tensor(\n",
            "[[3.121]\n",
            " [3.395]\n",
            " [1.782]], shape=(3, 1), dtype=float16)\n"
          ]
        }
      ]
    },
    {
      "cell_type": "code",
      "source": [
        "indexed_tensor=tf.constant([4,7,2,8,2,6,3,7,3,8,9,4,6])\n",
        "print(indexed_tensor[0::-1])"
      ],
      "metadata": {
        "colab": {
          "base_uri": "https://localhost:8080/"
        },
        "id": "woqC8Azoz-3B",
        "outputId": "0cb68b90-e993-4b11-8c28-64a8aa183eda"
      },
      "execution_count": 15,
      "outputs": [
        {
          "output_type": "stream",
          "name": "stdout",
          "text": [
            "tf.Tensor([4], shape=(1,), dtype=int32)\n"
          ]
        }
      ]
    },
    {
      "cell_type": "markdown",
      "source": [
        "# Initialization and Casting and Indexing\n",
        "\n",
        "---"
      ],
      "metadata": {
        "id": "xhao7m3_0QCv"
      }
    },
    {
      "cell_type": "code",
      "source": [
        "indexed_t=tf.constant([3,7,2,9,12,5,5,8,3,2,3,7])\n",
        "print(indexed_t[2:9:2])"
      ],
      "metadata": {
        "colab": {
          "base_uri": "https://localhost:8080/"
        },
        "id": "2LXM1v2g27xP",
        "outputId": "5a4daf58-2233-44b2-a7d1-ae5fd776709d"
      },
      "execution_count": 22,
      "outputs": [
        {
          "output_type": "stream",
          "name": "stdout",
          "text": [
            "tf.Tensor([ 2 12  5  3], shape=(4,), dtype=int32)\n"
          ]
        }
      ]
    },
    {
      "cell_type": "code",
      "source": [
        "#Indexing 2D\n",
        "print(tensorflow_2d)\n",
        "print(tensorflow_2d[0:3,0:2])\n",
        "#row 2\n",
        "print(tensorflow_2d[2,:])\n",
        "#collumn 2\n",
        "print(tensorflow_2d[:,2-1])\n"
      ],
      "metadata": {
        "colab": {
          "base_uri": "https://localhost:8080/"
        },
        "id": "bFJI942c4abq",
        "outputId": "e74c8271-32fd-4941-fb15-506877a0e592"
      },
      "execution_count": 23,
      "outputs": [
        {
          "output_type": "stream",
          "name": "stdout",
          "text": [
            "tf.Tensor(\n",
            "[[1 2 3]\n",
            " [4 5 6]\n",
            " [7 8 9]\n",
            " [3 8 4]], shape=(4, 3), dtype=int32)\n",
            "tf.Tensor(\n",
            "[[1 2]\n",
            " [4 5]\n",
            " [7 8]], shape=(3, 2), dtype=int32)\n",
            "tf.Tensor([7 8 9], shape=(3,), dtype=int32)\n",
            "tf.Tensor([2 5 8 8], shape=(4,), dtype=int32)\n"
          ]
        }
      ]
    },
    {
      "cell_type": "code",
      "source": [
        "#Indexing 3D\n",
        "tensor_3d=tf.constant([\n",
        "    [[5,7,4],[3,6,-2],[6,-1,9]],\n",
        "    [[-3,7,8],[2,-6,-9],[2,5,-7]],\n",
        "    [[-3,8,1],[6,-2,9],[13,4,8]],\n",
        "    [[-4,8,-1],[-2,3,1],[24,2,6]]\n",
        "])\n",
        "print(tensor_3d)"
      ],
      "metadata": {
        "colab": {
          "base_uri": "https://localhost:8080/"
        },
        "id": "-OvOLeil4aaC",
        "outputId": "e991f4b9-1f41-4a3e-fa4e-69a48fde9a42"
      },
      "execution_count": 24,
      "outputs": [
        {
          "output_type": "stream",
          "name": "stdout",
          "text": [
            "tf.Tensor(\n",
            "[[[ 5  7  4]\n",
            "  [ 3  6 -2]\n",
            "  [ 6 -1  9]]\n",
            "\n",
            " [[-3  7  8]\n",
            "  [ 2 -6 -9]\n",
            "  [ 2  5 -7]]\n",
            "\n",
            " [[-3  8  1]\n",
            "  [ 6 -2  9]\n",
            "  [13  4  8]]\n",
            "\n",
            " [[-4  8 -1]\n",
            "  [-2  3  1]\n",
            "  [24  2  6]]], shape=(4, 3, 3), dtype=int32)\n"
          ]
        }
      ]
    },
    {
      "cell_type": "code",
      "source": [
        "print(tensor_3d[1:4,1:2,1:3])"
      ],
      "metadata": {
        "colab": {
          "base_uri": "https://localhost:8080/"
        },
        "id": "ZSEPrZzt4aY_",
        "outputId": "748f83e4-5dec-4d76-af0d-96021aec2c8e"
      },
      "execution_count": 25,
      "outputs": [
        {
          "output_type": "stream",
          "name": "stdout",
          "text": [
            "tf.Tensor(\n",
            "[[[-6 -9]]\n",
            "\n",
            " [[-2  9]]\n",
            "\n",
            " [[ 3  1]]], shape=(3, 1, 2), dtype=int32)\n"
          ]
        }
      ]
    },
    {
      "cell_type": "code",
      "source": [
        "tensor_float=tf.constant([\n",
        "    [4.8,7.3,7.2],\n",
        "    [9.4,-3.27,3.6],\n",
        "    [4.9,-2.766,-4.6]\n",
        "]\n",
        ")\n",
        "print(tf.math.abs(tensor_float))"
      ],
      "metadata": {
        "colab": {
          "base_uri": "https://localhost:8080/"
        },
        "id": "8gSU8G0s4aXl",
        "outputId": "72215422-fba6-4fb0-91c7-ad438f5aa818"
      },
      "execution_count": 26,
      "outputs": [
        {
          "output_type": "stream",
          "name": "stdout",
          "text": [
            "tf.Tensor(\n",
            "[[4.8   7.3   7.2  ]\n",
            " [9.4   3.27  3.6  ]\n",
            " [4.9   2.766 4.6  ]], shape=(3, 3), dtype=float32)\n"
          ]
        }
      ]
    },
    {
      "cell_type": "code",
      "source": [
        "#complex number\n",
        "t_complex=tf.constant([[3-5j],[-12+5j],[4+5j]])\n",
        "print(t_complex)\n",
        "print(tf.abs(t_complex))"
      ],
      "metadata": {
        "colab": {
          "base_uri": "https://localhost:8080/"
        },
        "id": "nfrSVCHP4aPF",
        "outputId": "75d19923-96fc-4962-9788-a9178a69ee63"
      },
      "execution_count": 27,
      "outputs": [
        {
          "output_type": "stream",
          "name": "stdout",
          "text": [
            "tf.Tensor(\n",
            "[[  3.-5.j]\n",
            " [-12.+5.j]\n",
            " [  4.+5.j]], shape=(3, 1), dtype=complex128)\n",
            "tf.Tensor(\n",
            "[[ 5.83095189]\n",
            " [13.        ]\n",
            " [ 6.40312424]], shape=(3, 1), dtype=float64)\n"
          ]
        }
      ]
    },
    {
      "cell_type": "markdown",
      "source": [
        "# Linear Algebra & Common Tensorflow Functions\n",
        "\n",
        "---\n",
        "\n"
      ],
      "metadata": {
        "id": "oq0CdK4o7o_M"
      }
    },
    {
      "cell_type": "code",
      "source": [
        "m1=tf.constant([\n",
        "    [1,-2],\n",
        "    [-3,4],\n",
        "    [3,1]])\n",
        "m2=tf.constant([\n",
        "    [3,-2,2],\n",
        "    [4,3,-2]])\n",
        "print(tf.linalg.matmul(m1,m2))"
      ],
      "metadata": {
        "colab": {
          "base_uri": "https://localhost:8080/"
        },
        "id": "R1b9_Xo74aLa",
        "outputId": "dba5e2ae-f877-46a9-fc8c-7b2e678ba3fc"
      },
      "execution_count": 28,
      "outputs": [
        {
          "output_type": "stream",
          "name": "stdout",
          "text": [
            "tf.Tensor(\n",
            "[[ -5  -8   6]\n",
            " [  7  18 -14]\n",
            " [ 13  -3   4]], shape=(3, 3), dtype=int32)\n"
          ]
        }
      ]
    },
    {
      "cell_type": "markdown",
      "source": [
        "#CommonTensorFlow Functions"
      ],
      "metadata": {
        "id": "m1fQdtxX7_Qe"
      }
    },
    {
      "cell_type": "code",
      "source": [
        "tensor_3d=tf.constant([\n",
        "    [[5,7,4],[3,6,-2],[6,-1,9]],\n",
        "    [[-3,7,8],[2,-6,-9],[2,5,-7]],\n",
        "    [[-3,8,1],[6,-2,9],[13,4,8]],\n",
        "    [[-4,8,-1],[-2,3,1],[24,2,6]]\n",
        "])\n",
        "print(tensor_3d.shape)\n",
        "print(tf.expand_dims(tensor_3d,axis=0))"
      ],
      "metadata": {
        "colab": {
          "base_uri": "https://localhost:8080/"
        },
        "id": "QBm35QsnyCyL",
        "outputId": "5c0b463f-db8e-4dd7-cd17-042647e5fb0c"
      },
      "execution_count": 29,
      "outputs": [
        {
          "output_type": "stream",
          "name": "stdout",
          "text": [
            "(4, 3, 3)\n",
            "tf.Tensor(\n",
            "[[[[ 5  7  4]\n",
            "   [ 3  6 -2]\n",
            "   [ 6 -1  9]]\n",
            "\n",
            "  [[-3  7  8]\n",
            "   [ 2 -6 -9]\n",
            "   [ 2  5 -7]]\n",
            "\n",
            "  [[-3  8  1]\n",
            "   [ 6 -2  9]\n",
            "   [13  4  8]]\n",
            "\n",
            "  [[-4  8 -1]\n",
            "   [-2  3  1]\n",
            "   [24  2  6]]]], shape=(1, 4, 3, 3), dtype=int32)\n"
          ]
        }
      ]
    },
    {
      "cell_type": "code",
      "source": [
        "x=tf.constant([[[2,3,4,5],[5,7,8,9]]])\n",
        "x_squeezed=tf.squeeze(x,axis=0)\n",
        "x_squeezed"
      ],
      "metadata": {
        "colab": {
          "base_uri": "https://localhost:8080/"
        },
        "id": "zJINCOsryCmT",
        "outputId": "52c2051d-c958-4391-ec62-eee87f289a2a"
      },
      "execution_count": 30,
      "outputs": [
        {
          "output_type": "execute_result",
          "data": {
            "text/plain": [
              "<tf.Tensor: shape=(2, 4), dtype=int32, numpy=\n",
              "array([[2, 3, 4, 5],\n",
              "       [5, 7, 8, 9]], dtype=int32)>"
            ]
          },
          "metadata": {},
          "execution_count": 30
        }
      ]
    },
    {
      "cell_type": "code",
      "source": [
        "tf.reshape(x,[4,-1])"
      ],
      "metadata": {
        "colab": {
          "base_uri": "https://localhost:8080/"
        },
        "id": "hDyAlbUryCjR",
        "outputId": "0979ac96-0d9b-468a-b63d-c2544645ab2f"
      },
      "execution_count": 31,
      "outputs": [
        {
          "output_type": "execute_result",
          "data": {
            "text/plain": [
              "<tf.Tensor: shape=(4, 2), dtype=int32, numpy=\n",
              "array([[2, 3],\n",
              "       [4, 5],\n",
              "       [5, 7],\n",
              "       [8, 9]], dtype=int32)>"
            ]
          },
          "metadata": {},
          "execution_count": 31
        }
      ]
    },
    {
      "cell_type": "code",
      "source": [
        "c1=tf.constant([\n",
        "    [1,2,3],\n",
        "     [4,5,6]])\n",
        "c2=tf.constant([\n",
        "    [7,8,9],\n",
        "     [-1,-2,-3]])\n",
        "tf.concat([c1,c2],1)"
      ],
      "metadata": {
        "colab": {
          "base_uri": "https://localhost:8080/"
        },
        "id": "NiCieUGUyCgF",
        "outputId": "031f941b-d274-4e7f-d567-948f46a5dff5"
      },
      "execution_count": 32,
      "outputs": [
        {
          "output_type": "execute_result",
          "data": {
            "text/plain": [
              "<tf.Tensor: shape=(2, 6), dtype=int32, numpy=\n",
              "array([[ 1,  2,  3,  7,  8,  9],\n",
              "       [ 4,  5,  6, -1, -2, -3]], dtype=int32)>"
            ]
          },
          "metadata": {},
          "execution_count": 32
        }
      ]
    },
    {
      "cell_type": "code",
      "source": [
        "tf.stack([c1,c2],0)"
      ],
      "metadata": {
        "colab": {
          "base_uri": "https://localhost:8080/"
        },
        "id": "Jilm7-I9yCXb",
        "outputId": "0bbf04f3-474d-4569-fa77-967fcfd82c6f"
      },
      "execution_count": 33,
      "outputs": [
        {
          "output_type": "execute_result",
          "data": {
            "text/plain": [
              "<tf.Tensor: shape=(2, 2, 3), dtype=int32, numpy=\n",
              "array([[[ 1,  2,  3],\n",
              "        [ 4,  5,  6]],\n",
              "\n",
              "       [[ 7,  8,  9],\n",
              "        [-1, -2, -3]]], dtype=int32)>"
            ]
          },
          "metadata": {},
          "execution_count": 33
        }
      ]
    },
    {
      "cell_type": "code",
      "source": [
        "tf.pad(c1,[[1,2],[3,4]],constant_values=0,)"
      ],
      "metadata": {
        "colab": {
          "base_uri": "https://localhost:8080/"
        },
        "id": "JNLTFahsyCUI",
        "outputId": "7b5939c5-d384-4bd6-e398-cfc6efa691c5"
      },
      "execution_count": 34,
      "outputs": [
        {
          "output_type": "execute_result",
          "data": {
            "text/plain": [
              "<tf.Tensor: shape=(5, 10), dtype=int32, numpy=\n",
              "array([[0, 0, 0, 0, 0, 0, 0, 0, 0, 0],\n",
              "       [0, 0, 0, 1, 2, 3, 0, 0, 0, 0],\n",
              "       [0, 0, 0, 4, 5, 6, 0, 0, 0, 0],\n",
              "       [0, 0, 0, 0, 0, 0, 0, 0, 0, 0],\n",
              "       [0, 0, 0, 0, 0, 0, 0, 0, 0, 0]], dtype=int32)>"
            ]
          },
          "metadata": {},
          "execution_count": 34
        }
      ]
    },
    {
      "cell_type": "code",
      "source": [
        "p=tf.constant([['p1','p2','p3','p4','p5','p6','p7'],\n",
        "               ['p-1','p-2','p-3','p-4','p-5','p-6','p-7'],\n",
        "               ['p+1','p+2','p+3','p+4','p+5','p+6','p+7']])\n",
        "tf.gather(p,[2,0])\n",
        "tf.gather(p,[3,6],axis=1)"
      ],
      "metadata": {
        "colab": {
          "base_uri": "https://localhost:8080/"
        },
        "id": "tZlxzCr-yCQ8",
        "outputId": "c487c6e9-6a82-4cb7-af2c-0ba1b0bd82f0"
      },
      "execution_count": 35,
      "outputs": [
        {
          "output_type": "execute_result",
          "data": {
            "text/plain": [
              "<tf.Tensor: shape=(3, 2), dtype=string, numpy=\n",
              "array([[b'p4', b'p7'],\n",
              "       [b'p-4', b'p-7'],\n",
              "       [b'p+4', b'p+7']], dtype=object)>"
            ]
          },
          "metadata": {},
          "execution_count": 35
        }
      ]
    },
    {
      "cell_type": "code",
      "source": [
        "tf.gather_nd(p,[[1,4],[0,2],[2,6],[1,5]])"
      ],
      "metadata": {
        "colab": {
          "base_uri": "https://localhost:8080/"
        },
        "id": "bI4c0W-nG3Df",
        "outputId": "b7c3c916-a353-41e3-a242-ac1e772a96cd"
      },
      "execution_count": 36,
      "outputs": [
        {
          "output_type": "execute_result",
          "data": {
            "text/plain": [
              "<tf.Tensor: shape=(4,), dtype=string, numpy=array([b'p-5', b'p3', b'p+7', b'p-6'], dtype=object)>"
            ]
          },
          "metadata": {},
          "execution_count": 36
        }
      ]
    },
    {
      "cell_type": "markdown",
      "source": [
        "# Ragged Tensor"
      ],
      "metadata": {
        "id": "WwP3DbXhxggK"
      }
    },
    {
      "cell_type": "code",
      "source": [
        "tensor_2d=tf.constant([[1,5,7],\n",
        "                  [8,2,9],\n",
        "                  [6,6,1],\n",
        "                  [2,8,5]])\n",
        "tensor_2d.shape"
      ],
      "metadata": {
        "id": "y18kCCS8G2sT",
        "colab": {
          "base_uri": "https://localhost:8080/"
        },
        "outputId": "e8ea98a0-b45e-4d87-f4ad-e728f1020e12"
      },
      "execution_count": 49,
      "outputs": [
        {
          "output_type": "execute_result",
          "data": {
            "text/plain": [
              "TensorShape([4, 3])"
            ]
          },
          "metadata": {},
          "execution_count": 49
        }
      ]
    },
    {
      "cell_type": "code",
      "source": [
        "t_2d=[[1,5,7],\n",
        "      [8,2],\n",
        "      [6,6,1,7],\n",
        "      [2,8,5]]\n",
        "t_ragged=tf.ragged.constant(t_2d)\n",
        "t_ragged.shape"
      ],
      "metadata": {
        "id": "hZSPaPzWG2es",
        "colab": {
          "base_uri": "https://localhost:8080/"
        },
        "outputId": "48ead9ae-a7f8-48ba-a8f5-b23d4de70fdc"
      },
      "execution_count": 41,
      "outputs": [
        {
          "output_type": "execute_result",
          "data": {
            "text/plain": [
              "TensorShape([4, None])"
            ]
          },
          "metadata": {},
          "execution_count": 41
        }
      ]
    },
    {
      "cell_type": "code",
      "source": [
        "value=[4,7,2,9,1,4,6,7,3,2,5,9,3]\n",
        "row_length=[6,3,0,4]\n",
        "limit=[4,6,6,9,13]\n",
        "tf.RaggedTensor.from_row_lengths(values=value,row_lengths=row_length)\n",
        "tf.RaggedTensor.from_row_limits(value,limit)"
      ],
      "metadata": {
        "colab": {
          "base_uri": "https://localhost:8080/"
        },
        "id": "Ro2MVObyxpQh",
        "outputId": "494c4376-2ed6-4c84-b891-67a6672ff4a3"
      },
      "execution_count": 47,
      "outputs": [
        {
          "output_type": "execute_result",
          "data": {
            "text/plain": [
              "<tf.RaggedTensor [[4, 7, 2, 9], [1, 4], [], [6, 7, 3], [2, 5, 9, 3]]>"
            ]
          },
          "metadata": {},
          "execution_count": 47
        }
      ]
    },
    {
      "cell_type": "code",
      "source": [
        "tf.RaggedTensor.from_tensor(tensor_2d,lengths=[3,2,0,1])"
      ],
      "metadata": {
        "colab": {
          "base_uri": "https://localhost:8080/"
        },
        "id": "0-L79ArkxpNK",
        "outputId": "24ec1675-942c-4616-a71e-e9e5d56956a7"
      },
      "execution_count": 50,
      "outputs": [
        {
          "output_type": "execute_result",
          "data": {
            "text/plain": [
              "<tf.RaggedTensor [[1, 5, 7], [8, 2], [], [2]]>"
            ]
          },
          "metadata": {},
          "execution_count": 50
        }
      ]
    },
    {
      "cell_type": "markdown",
      "source": [
        "# Sparse Tensor"
      ],
      "metadata": {
        "id": "vNwG59dx5FQR"
      }
    },
    {
      "cell_type": "code",
      "source": [
        "tensor_sparse=tf.sparse.SparseTensor(indices=[[2,3],[3,4]],values=[4,7],dense_shape=[5,6])\n",
        "print(tensor_sparse)\n",
        "print(tf.sparse.to_dense(tensor_sparse))"
      ],
      "metadata": {
        "colab": {
          "base_uri": "https://localhost:8080/"
        },
        "id": "JwG1WH7GxpJt",
        "outputId": "4cba3c38-70fd-49e6-8416-847c197af171"
      },
      "execution_count": 52,
      "outputs": [
        {
          "output_type": "stream",
          "name": "stdout",
          "text": [
            "SparseTensor(indices=tf.Tensor(\n",
            "[[2 3]\n",
            " [3 4]], shape=(2, 2), dtype=int64), values=tf.Tensor([4 7], shape=(2,), dtype=int32), dense_shape=tf.Tensor([5 6], shape=(2,), dtype=int64))\n",
            "tf.Tensor(\n",
            "[[0 0 0 0 0 0]\n",
            " [0 0 0 0 0 0]\n",
            " [0 0 0 4 0 0]\n",
            " [0 0 0 0 7 0]\n",
            " [0 0 0 0 0 0]], shape=(5, 6), dtype=int32)\n"
          ]
        }
      ]
    },
    {
      "cell_type": "markdown",
      "source": [
        "# Variable Tensors"
      ],
      "metadata": {
        "id": "g9FkMfKZ7G3M"
      }
    },
    {
      "cell_type": "code",
      "source": [
        "x=tf.constant([3,6])\n",
        "x_var=tf.Variable(x,name=\"var\")\n",
        "print(x_var)"
      ],
      "metadata": {
        "colab": {
          "base_uri": "https://localhost:8080/"
        },
        "id": "endkt6JmxpFY",
        "outputId": "9f736faa-9a10-44ae-ca0d-554f00d926f3"
      },
      "execution_count": 54,
      "outputs": [
        {
          "output_type": "stream",
          "name": "stdout",
          "text": [
            "<tf.Variable 'var:0' shape=(2,) dtype=int32, numpy=array([3, 6], dtype=int32)>\n"
          ]
        }
      ]
    },
    {
      "cell_type": "code",
      "source": [
        "x_var.assign_add([2,7])\n",
        "x_var"
      ],
      "metadata": {
        "colab": {
          "base_uri": "https://localhost:8080/"
        },
        "id": "Ohe6MxT8xpAb",
        "outputId": "a2277fe0-15a9-424f-e4e7-a25702db489e"
      },
      "execution_count": 55,
      "outputs": [
        {
          "output_type": "execute_result",
          "data": {
            "text/plain": [
              "<tf.Variable 'var:0' shape=(2,) dtype=int32, numpy=array([ 5, 13], dtype=int32)>"
            ]
          },
          "metadata": {},
          "execution_count": 55
        }
      ]
    }
  ]
}