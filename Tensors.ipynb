{
  "nbformat": 4,
  "nbformat_minor": 0,
  "metadata": {
    "colab": {
      "provenance": [],
      "authorship_tag": "ABX9TyOywdhJPTEzEk3j5C0wkmHw",
      "include_colab_link": true
    },
    "kernelspec": {
      "name": "python3",
      "display_name": "Python 3"
    },
    "language_info": {
      "name": "python"
    }
  },
  "cells": [
    {
      "cell_type": "markdown",
      "metadata": {
        "id": "view-in-github",
        "colab_type": "text"
      },
      "source": [
        "<a href=\"https://colab.research.google.com/github/hadiahmed1/DeepLearningForCV_FCC/blob/main/Tensors.ipynb\" target=\"_parent\"><img src=\"https://colab.research.google.com/assets/colab-badge.svg\" alt=\"Open In Colab\"/></a>"
      ]
    },
    {
      "cell_type": "markdown",
      "source": [
        "# **Basics**"
      ],
      "metadata": {
        "id": "SfU2Horozllr"
      }
    },
    {
      "cell_type": "code",
      "execution_count": 2,
      "metadata": {
        "colab": {
          "base_uri": "https://localhost:8080/"
        },
        "id": "t5Q1kRTnIWaC",
        "outputId": "8aeb3ca7-9ecc-484b-a234-8eb3637d6ac6"
      },
      "outputs": [
        {
          "output_type": "stream",
          "name": "stdout",
          "text": [
            "tf.Tensor(4, shape=(), dtype=int32)\n"
          ]
        }
      ],
      "source": [
        "import tensorflow as tf\n",
        "import numpy as np\n",
        "tesnsorflow_zero=tf.constant(4)\n",
        "print(tesnsorflow_zero)"
      ]
    },
    {
      "cell_type": "code",
      "source": [
        "tensorflow_1d=tf.constant([2,0,-1])\n",
        "print(tensorflow_1d)"
      ],
      "metadata": {
        "colab": {
          "base_uri": "https://localhost:8080/"
        },
        "id": "UeOP6zuwKlJd",
        "outputId": "2619ae21-1bae-472d-fed4-3129231e2b59"
      },
      "execution_count": 2,
      "outputs": [
        {
          "output_type": "stream",
          "name": "stdout",
          "text": [
            "tf.Tensor([ 2  0 -1], shape=(3,), dtype=int32)\n"
          ]
        }
      ]
    },
    {
      "cell_type": "code",
      "source": [
        "tensorflow_2d=tf.constant([\n",
        "    [1,2,3],\n",
        "    [4,5,6],\n",
        "    [7,8,9],\n",
        "    [3,8,4]\n",
        "])\n",
        "print(tensorflow_2d)"
      ],
      "metadata": {
        "colab": {
          "base_uri": "https://localhost:8080/"
        },
        "id": "lJmq1sgSLISW",
        "outputId": "a0a26d8d-e241-405f-e81d-a894400d0fac"
      },
      "execution_count": 3,
      "outputs": [
        {
          "output_type": "stream",
          "name": "stdout",
          "text": [
            "tf.Tensor(\n",
            "[[1 2 3]\n",
            " [4 5 6]\n",
            " [7 8 9]\n",
            " [3 8 4]], shape=(4, 3), dtype=int32)\n"
          ]
        }
      ]
    },
    {
      "cell_type": "code",
      "source": [
        "tensorflow_3d=tf.constant([\n",
        "    [[5,7,4],[3,6,-2],[6,-1,9]],\n",
        "\n",
        "    [[-3,7,8],[2,-6,-9],[2,5,-7]],\n",
        "])\n",
        "print(tensorflow_3d)"
      ],
      "metadata": {
        "colab": {
          "base_uri": "https://localhost:8080/"
        },
        "id": "HYvKq1g5MBVn",
        "outputId": "1f69b66d-ac34-4cdb-9049-3b3b53b9f9d2"
      },
      "execution_count": 4,
      "outputs": [
        {
          "output_type": "stream",
          "name": "stdout",
          "text": [
            "tf.Tensor(\n",
            "[[[ 5  7  4]\n",
            "  [ 3  6 -2]\n",
            "  [ 6 -1  9]]\n",
            "\n",
            " [[-3  7  8]\n",
            "  [ 2 -6 -9]\n",
            "  [ 2  5 -7]]], shape=(2, 3, 3), dtype=int32)\n"
          ]
        }
      ]
    },
    {
      "cell_type": "code",
      "source": [
        "print(tensorflow_3d.shape)"
      ],
      "metadata": {
        "colab": {
          "base_uri": "https://localhost:8080/"
        },
        "id": "BvdsMyc2v5dd",
        "outputId": "2c54c4c4-4a9f-4c94-b346-cf37cb88684f"
      },
      "execution_count": 5,
      "outputs": [
        {
          "output_type": "stream",
          "name": "stdout",
          "text": [
            "(2, 3, 3)\n"
          ]
        }
      ]
    },
    {
      "cell_type": "code",
      "source": [
        "tf_o=tf.constant([2.3,6.1,-1.2],dtype=tf.float16)\n",
        "print(tf_o)\n",
        "tf_casted=tf.cast(tf_o,dtype=tf.int16)\n",
        "print(tf_casted)"
      ],
      "metadata": {
        "colab": {
          "base_uri": "https://localhost:8080/"
        },
        "id": "3RFH9TaFxSuB",
        "outputId": "99545c5b-4cec-42d6-a9d3-203d2cdd3390"
      },
      "execution_count": 6,
      "outputs": [
        {
          "output_type": "stream",
          "name": "stdout",
          "text": [
            "tf.Tensor([ 2.3  6.1 -1.2], shape=(3,), dtype=float16)\n",
            "tf.Tensor([ 2  6 -1], shape=(3,), dtype=int16)\n"
          ]
        }
      ]
    },
    {
      "cell_type": "code",
      "source": [
        "np_array=np.array([1,2,3,4])\n",
        "print(np_array)\n",
        "converted_array=tf.convert_to_tensor(np_array)\n",
        "print(converted_array)"
      ],
      "metadata": {
        "colab": {
          "base_uri": "https://localhost:8080/"
        },
        "id": "vJS_lDjyytv8",
        "outputId": "64ed2d09-ad1e-4898-f400-0bbe6b640fcf"
      },
      "execution_count": 7,
      "outputs": [
        {
          "output_type": "stream",
          "name": "stdout",
          "text": [
            "[1 2 3 4]\n",
            "tf.Tensor([1 2 3 4], shape=(4,), dtype=int64)\n"
          ]
        }
      ]
    },
    {
      "cell_type": "code",
      "source": [
        "eye_tensor=tf.eye(\n",
        "    num_rows=5,\n",
        "    num_columns=None,\n",
        "    batch_shape=[2,],\n",
        "    dtype=np.float32,\n",
        "    name=None\n",
        ")\n",
        "print(5*eye_tensor)"
      ],
      "metadata": {
        "colab": {
          "base_uri": "https://localhost:8080/"
        },
        "id": "Y4s8A8c_zdTV",
        "outputId": "3ef4819b-3325-4639-c53b-ae6efb3f1279"
      },
      "execution_count": 8,
      "outputs": [
        {
          "output_type": "stream",
          "name": "stdout",
          "text": [
            "tf.Tensor(\n",
            "[[[5. 0. 0. 0. 0.]\n",
            "  [0. 5. 0. 0. 0.]\n",
            "  [0. 0. 5. 0. 0.]\n",
            "  [0. 0. 0. 5. 0.]\n",
            "  [0. 0. 0. 0. 5.]]\n",
            "\n",
            " [[5. 0. 0. 0. 0.]\n",
            "  [0. 5. 0. 0. 0.]\n",
            "  [0. 0. 5. 0. 0.]\n",
            "  [0. 0. 0. 5. 0.]\n",
            "  [0. 0. 0. 0. 5.]]], shape=(2, 5, 5), dtype=float32)\n"
          ]
        }
      ]
    },
    {
      "cell_type": "code",
      "source": [
        "tensor_fill=tf.fill([2,3,3],2)\n",
        "print(tensor_fill)"
      ],
      "metadata": {
        "colab": {
          "base_uri": "https://localhost:8080/"
        },
        "id": "6LLhHNmj0l40",
        "outputId": "7ca2a771-2e75-4052-a7c5-45cb6b868fa2"
      },
      "execution_count": 9,
      "outputs": [
        {
          "output_type": "stream",
          "name": "stdout",
          "text": [
            "tf.Tensor(\n",
            "[[[2 2 2]\n",
            "  [2 2 2]\n",
            "  [2 2 2]]\n",
            "\n",
            " [[2 2 2]\n",
            "  [2 2 2]\n",
            "  [2 2 2]]], shape=(2, 3, 3), dtype=int32)\n"
          ]
        }
      ]
    },
    {
      "cell_type": "code",
      "source": [
        "print(tf.size(tensorflow_3d))"
      ],
      "metadata": {
        "colab": {
          "base_uri": "https://localhost:8080/"
        },
        "id": "YjSYbLtWuA7H",
        "outputId": "0d10c62e-22fa-4531-f381-a7d6ba394420"
      },
      "execution_count": 10,
      "outputs": [
        {
          "output_type": "stream",
          "name": "stdout",
          "text": [
            "tf.Tensor(18, shape=(), dtype=int32)\n"
          ]
        }
      ]
    },
    {
      "cell_type": "code",
      "source": [
        "#creating random\n",
        "random_tensor=tf.random.normal([4,5],mean=100,stddev=5)\n",
        "print(random_tensor)"
      ],
      "metadata": {
        "colab": {
          "base_uri": "https://localhost:8080/"
        },
        "id": "2EaGjf4juAtH",
        "outputId": "0a98852c-aadb-4cc4-cb56-125c4a275626"
      },
      "execution_count": 11,
      "outputs": [
        {
          "output_type": "stream",
          "name": "stdout",
          "text": [
            "tf.Tensor(\n",
            "[[101.00619   99.146255 105.078125  98.519264 104.704544]\n",
            " [103.98227   98.78619  106.09292  100.33026   94.42784 ]\n",
            " [100.5514    95.99427   96.22795  108.20205   97.92118 ]\n",
            " [ 91.81399  107.07594  101.13179   97.390976  94.68963 ]], shape=(4, 5), dtype=float32)\n"
          ]
        }
      ]
    },
    {
      "cell_type": "code",
      "source": [
        "random2_tensor=tf.random.uniform(shape=[3,4],minval=2,maxval=5)\n",
        "print(random2_tensor)"
      ],
      "metadata": {
        "colab": {
          "base_uri": "https://localhost:8080/"
        },
        "id": "-8sO0xkjxV2r",
        "outputId": "b5809213-b4d3-43a2-b424-633c9dbb76ec"
      },
      "execution_count": 12,
      "outputs": [
        {
          "output_type": "stream",
          "name": "stdout",
          "text": [
            "tf.Tensor(\n",
            "[[3.5629158 2.7427082 3.028298  4.0462303]\n",
            " [2.9532537 4.902417  2.3488367 4.0681744]\n",
            " [2.973089  3.294817  4.0359163 2.2050772]], shape=(3, 4), dtype=float32)\n"
          ]
        }
      ]
    },
    {
      "cell_type": "code",
      "source": [
        "#SEED\n",
        "tf.random.set_seed(5)\n",
        "print(tf.random.uniform(shape=[3,1],maxval=5,dtype=tf.float16,seed=10))\n",
        "print(tf.random.uniform(shape=[3,1],maxval=5,dtype=tf.float16,seed=10))\n",
        "print(tf.random.uniform(shape=[3,1],maxval=5,dtype=tf.float16,seed=10))\n",
        "print(tf.random.uniform(shape=[3,1],maxval=5,dtype=tf.float16,seed=10))"
      ],
      "metadata": {
        "colab": {
          "base_uri": "https://localhost:8080/"
        },
        "id": "wpUDx7mSxVuL",
        "outputId": "db23919d-9f59-4556-f796-bf902fd77076"
      },
      "execution_count": 13,
      "outputs": [
        {
          "output_type": "stream",
          "name": "stdout",
          "text": [
            "tf.Tensor(\n",
            "[[3.941]\n",
            " [2.34 ]\n",
            " [2.715]], shape=(3, 1), dtype=float16)\n",
            "tf.Tensor(\n",
            "[[2.719 ]\n",
            " [0.5615]\n",
            " [3.838 ]], shape=(3, 1), dtype=float16)\n",
            "tf.Tensor(\n",
            "[[0.2393]\n",
            " [0.2979]\n",
            " [4.176 ]], shape=(3, 1), dtype=float16)\n",
            "tf.Tensor(\n",
            "[[3.121]\n",
            " [3.395]\n",
            " [1.782]], shape=(3, 1), dtype=float16)\n"
          ]
        }
      ]
    },
    {
      "cell_type": "code",
      "source": [
        "tf.random.set_seed(5)\n",
        "print(tf.random.uniform(shape=[3,1],maxval=5,dtype=tf.float16,seed=10))\n",
        "print(tf.random.uniform(shape=[3,1],maxval=5,dtype=tf.float16,seed=10))\n",
        "print(tf.random.uniform(shape=[3,1],maxval=5,dtype=tf.float16,seed=10))\n",
        "print(tf.random.uniform(shape=[3,1],maxval=5,dtype=tf.float16,seed=10))"
      ],
      "metadata": {
        "colab": {
          "base_uri": "https://localhost:8080/"
        },
        "id": "YLTpz5w0xVqR",
        "outputId": "d226c510-ca81-4311-a23e-9e82ce77137b"
      },
      "execution_count": 14,
      "outputs": [
        {
          "output_type": "stream",
          "name": "stdout",
          "text": [
            "tf.Tensor(\n",
            "[[3.941]\n",
            " [2.34 ]\n",
            " [2.715]], shape=(3, 1), dtype=float16)\n",
            "tf.Tensor(\n",
            "[[2.719 ]\n",
            " [0.5615]\n",
            " [3.838 ]], shape=(3, 1), dtype=float16)\n",
            "tf.Tensor(\n",
            "[[0.2393]\n",
            " [0.2979]\n",
            " [4.176 ]], shape=(3, 1), dtype=float16)\n",
            "tf.Tensor(\n",
            "[[3.121]\n",
            " [3.395]\n",
            " [1.782]], shape=(3, 1), dtype=float16)\n"
          ]
        }
      ]
    },
    {
      "cell_type": "code",
      "source": [
        "indexed_tensor=tf.constant([4,7,2,8,2,6,3,7,3,8,9,4,6])\n",
        "print(indexed_tensor[0::-1])"
      ],
      "metadata": {
        "colab": {
          "base_uri": "https://localhost:8080/"
        },
        "id": "woqC8Azoz-3B",
        "outputId": "e0473c89-2b73-42f7-c103-696702d4a2eb"
      },
      "execution_count": 15,
      "outputs": [
        {
          "output_type": "stream",
          "name": "stdout",
          "text": [
            "tf.Tensor([4], shape=(1,), dtype=int32)\n"
          ]
        }
      ]
    },
    {
      "cell_type": "markdown",
      "source": [
        "# Initialization and Casting and Indexing\n",
        "\n",
        "---"
      ],
      "metadata": {
        "id": "xhao7m3_0QCv"
      }
    },
    {
      "cell_type": "code",
      "source": [
        "indexed_t=tf.constant([3,7,2,9,12,5,5,8,3,2,3,7])\n",
        "print(indexed_t[2:9:2])"
      ],
      "metadata": {
        "colab": {
          "base_uri": "https://localhost:8080/"
        },
        "id": "2LXM1v2g27xP",
        "outputId": "0fcf83e5-de61-411d-d4ea-f8793d5440b7"
      },
      "execution_count": 15,
      "outputs": [
        {
          "output_type": "stream",
          "name": "stdout",
          "text": [
            "tf.Tensor([ 2 12  5  3], shape=(4,), dtype=int32)\n"
          ]
        }
      ]
    },
    {
      "cell_type": "code",
      "source": [
        "#Indexing 2D\n",
        "print(tensorflow_2d)\n",
        "print(tensorflow_2d[0:3,0:2])\n",
        "#row 2\n",
        "print(tensorflow_2d[2,:])\n",
        "#collumn 2\n",
        "print(tensorflow_2d[:,2-1])\n"
      ],
      "metadata": {
        "colab": {
          "base_uri": "https://localhost:8080/"
        },
        "id": "bFJI942c4abq",
        "outputId": "7ef4c1fe-7f2c-498e-9155-a8f69b343d6a"
      },
      "execution_count": 16,
      "outputs": [
        {
          "output_type": "stream",
          "name": "stdout",
          "text": [
            "tf.Tensor(\n",
            "[[1 2 3]\n",
            " [4 5 6]\n",
            " [7 8 9]\n",
            " [3 8 4]], shape=(4, 3), dtype=int32)\n",
            "tf.Tensor(\n",
            "[[1 2]\n",
            " [4 5]\n",
            " [7 8]], shape=(3, 2), dtype=int32)\n",
            "tf.Tensor([7 8 9], shape=(3,), dtype=int32)\n",
            "tf.Tensor([2 5 8 8], shape=(4,), dtype=int32)\n"
          ]
        }
      ]
    },
    {
      "cell_type": "code",
      "source": [
        "#Indexing 3D\n",
        "tensor_3d=tf.constant([\n",
        "    [[5,7,4],[3,6,-2],[6,-1,9]],\n",
        "    [[-3,7,8],[2,-6,-9],[2,5,-7]],\n",
        "    [[-3,8,1],[6,-2,9],[13,4,8]],\n",
        "    [[-4,8,-1],[-2,3,1],[24,2,6]]\n",
        "])\n",
        "print(tensor_3d)"
      ],
      "metadata": {
        "colab": {
          "base_uri": "https://localhost:8080/"
        },
        "id": "-OvOLeil4aaC",
        "outputId": "e3c74cc7-810f-4cdd-a7b3-6e27ee63e604"
      },
      "execution_count": 17,
      "outputs": [
        {
          "output_type": "stream",
          "name": "stdout",
          "text": [
            "tf.Tensor(\n",
            "[[[ 5  7  4]\n",
            "  [ 3  6 -2]\n",
            "  [ 6 -1  9]]\n",
            "\n",
            " [[-3  7  8]\n",
            "  [ 2 -6 -9]\n",
            "  [ 2  5 -7]]\n",
            "\n",
            " [[-3  8  1]\n",
            "  [ 6 -2  9]\n",
            "  [13  4  8]]\n",
            "\n",
            " [[-4  8 -1]\n",
            "  [-2  3  1]\n",
            "  [24  2  6]]], shape=(4, 3, 3), dtype=int32)\n"
          ]
        }
      ]
    },
    {
      "cell_type": "code",
      "source": [
        "print(tensor_3d[1:4,1:2,1:3])"
      ],
      "metadata": {
        "colab": {
          "base_uri": "https://localhost:8080/"
        },
        "id": "ZSEPrZzt4aY_",
        "outputId": "951089b8-f595-4ee9-8bad-b8bf7523dafb"
      },
      "execution_count": 19,
      "outputs": [
        {
          "output_type": "stream",
          "name": "stdout",
          "text": [
            "tf.Tensor(\n",
            "[[[-6 -9]]\n",
            "\n",
            " [[-2  9]]\n",
            "\n",
            " [[ 3  1]]], shape=(3, 1, 2), dtype=int32)\n"
          ]
        }
      ]
    },
    {
      "cell_type": "code",
      "source": [
        "tensor_float=tf.constant([\n",
        "    [4.8,7.3,7.2],\n",
        "    [9.4,-3.27,3.6],\n",
        "    [4.9,-2.766,-4.6]\n",
        "]\n",
        ")\n",
        "print(tf.math.abs(tensor_float))"
      ],
      "metadata": {
        "colab": {
          "base_uri": "https://localhost:8080/"
        },
        "id": "8gSU8G0s4aXl",
        "outputId": "407d8538-603b-49c9-bd3f-40f4802ba620"
      },
      "execution_count": 22,
      "outputs": [
        {
          "output_type": "stream",
          "name": "stdout",
          "text": [
            "tf.Tensor(\n",
            "[[4.8   7.3   7.2  ]\n",
            " [9.4   3.27  3.6  ]\n",
            " [4.9   2.766 4.6  ]], shape=(3, 3), dtype=float32)\n"
          ]
        }
      ]
    },
    {
      "cell_type": "code",
      "source": [
        "#complex number\n",
        "t_complex=tf.constant([[3-5j],[-12+5j],[4+5j]])\n",
        "print(t_complex)\n",
        "print(tf.abs(t_complex))"
      ],
      "metadata": {
        "colab": {
          "base_uri": "https://localhost:8080/"
        },
        "id": "nfrSVCHP4aPF",
        "outputId": "308e5838-2ccd-4f36-99f8-a64d3409f736"
      },
      "execution_count": 24,
      "outputs": [
        {
          "output_type": "stream",
          "name": "stdout",
          "text": [
            "tf.Tensor(\n",
            "[[  3.-5.j]\n",
            " [-12.+5.j]\n",
            " [  4.+5.j]], shape=(3, 1), dtype=complex128)\n",
            "tf.Tensor(\n",
            "[[ 5.83095189]\n",
            " [13.        ]\n",
            " [ 6.40312424]], shape=(3, 1), dtype=float64)\n"
          ]
        }
      ]
    },
    {
      "cell_type": "markdown",
      "source": [
        "# Linear Algebra & Common Tensorflow Functions\n",
        "\n",
        "---\n",
        "\n"
      ],
      "metadata": {
        "id": "oq0CdK4o7o_M"
      }
    },
    {
      "cell_type": "code",
      "source": [
        "m1=tf.constant([\n",
        "    [1,-2],\n",
        "    [-3,4],\n",
        "    [3,1]])\n",
        "m2=tf.constant([\n",
        "    [3,-2,2],\n",
        "    [4,3,-2]])\n",
        "print(tf.linalg.matmul(m1,m2))"
      ],
      "metadata": {
        "colab": {
          "base_uri": "https://localhost:8080/"
        },
        "id": "R1b9_Xo74aLa",
        "outputId": "f97b3560-2498-4464-b424-407b3c9b9cce"
      },
      "execution_count": 9,
      "outputs": [
        {
          "output_type": "stream",
          "name": "stdout",
          "text": [
            "tf.Tensor(\n",
            "[[ -5  -8   6]\n",
            " [  7  18 -14]\n",
            " [ 13  -3   4]], shape=(3, 3), dtype=int32)\n"
          ]
        }
      ]
    },
    {
      "cell_type": "code",
      "source": [],
      "metadata": {
        "id": "QBm35QsnyCyL"
      },
      "execution_count": null,
      "outputs": []
    },
    {
      "cell_type": "code",
      "source": [],
      "metadata": {
        "id": "zJINCOsryCmT"
      },
      "execution_count": null,
      "outputs": []
    },
    {
      "cell_type": "code",
      "source": [],
      "metadata": {
        "id": "hDyAlbUryCjR"
      },
      "execution_count": null,
      "outputs": []
    },
    {
      "cell_type": "code",
      "source": [],
      "metadata": {
        "id": "NiCieUGUyCgF"
      },
      "execution_count": null,
      "outputs": []
    },
    {
      "cell_type": "code",
      "source": [],
      "metadata": {
        "id": "Jilm7-I9yCXb"
      },
      "execution_count": null,
      "outputs": []
    },
    {
      "cell_type": "code",
      "source": [],
      "metadata": {
        "id": "JNLTFahsyCUI"
      },
      "execution_count": null,
      "outputs": []
    },
    {
      "cell_type": "code",
      "source": [],
      "metadata": {
        "id": "tZlxzCr-yCQ8"
      },
      "execution_count": null,
      "outputs": []
    }
  ]
}